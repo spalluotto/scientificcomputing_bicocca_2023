{
 "cells": [
  {
   "cell_type": "code",
   "execution_count": 1,
   "id": "c43a1b77-b209-4d31-bdb9-ab1483d5c753",
   "metadata": {},
   "outputs": [
    {
     "data": {
      "text/plain": [
       "array([[ 1,  6, 11],\n",
       "       [ 2,  7, 12],\n",
       "       [ 3,  8, 13],\n",
       "       [ 4,  9, 14],\n",
       "       [ 5, 10, 15]])"
      ]
     },
     "execution_count": 1,
     "metadata": {},
     "output_type": "execute_result"
    }
   ],
   "source": [
    "import numpy as np\n",
    "\n",
    "# --------\n",
    "# -- Q1 --\n",
    "# --------\n",
    "# A. Create the array: with out explicitly typing it in.\n",
    "a = np.arange(1,16).reshape(3,5)\n",
    "b = a.transpose()\n",
    "b"
   ]
  },
  {
   "cell_type": "code",
   "execution_count": 2,
   "id": "b3d77f21-2703-4648-ad03-4e6d864d4a5a",
   "metadata": {},
   "outputs": [
    {
     "data": {
      "text/plain": [
       "array([[ 2,  7, 12],\n",
       "       [ 4,  9, 14]])"
      ]
     },
     "execution_count": 2,
     "metadata": {},
     "output_type": "execute_result"
    }
   ],
   "source": [
    "#     Now create a new array containing only its 2nd and 4th rows.\n",
    "c = b[(1,3),:]\n",
    "c"
   ]
  },
  {
   "cell_type": "code",
   "execution_count": 3,
   "id": "253d64f7-87fc-4a3d-846b-2cf566f7378a",
   "metadata": {},
   "outputs": [
    {
     "data": {
      "text/plain": [
       "array([[1., 1., 1., 1.],\n",
       "       [1., 0., 0., 1.],\n",
       "       [1., 0., 0., 1.],\n",
       "       [1., 1., 1., 1.]])"
      ]
     },
     "execution_count": 3,
     "metadata": {},
     "output_type": "execute_result"
    }
   ],
   "source": [
    "# B. Create a 2d array with 1 on the border and 0 on the inside:\n",
    "#     Do this using array slice notation to let it work for an arbitrary-sized array\n",
    "r = 4\n",
    "c = 4\n",
    "d = np.zeros((r,c))\n",
    "f = d.copy()\n",
    "f[:,0]  = 1\n",
    "f[0,:]  = 1\n",
    "f[-1,:] = 1\n",
    "f[:,-1] = 1\n",
    "f"
   ]
  },
  {
   "cell_type": "code",
   "execution_count": 4,
   "id": "6337be9c-40e5-4c71-80aa-7fb83fdd2675",
   "metadata": {},
   "outputs": [
    {
     "name": "stdout",
     "output_type": "stream",
     "text": [
      "(100, 2)\n"
     ]
    }
   ],
   "source": [
    "\n",
    "\n",
    "\n",
    "# --------\n",
    "# -- Q2 --\n",
    "# --------\n",
    "'''\n",
    " Here we will read in columns of numbers from a file and create a histogram, using NumPy routines. \n",
    " Make sure you have the data file \"sample.txt\" in the same directory as this notebook. \n",
    " You download it from https://raw.githubusercontent.com/sbu-python-summer/python-tutorial/master/day-3/sample.txt \n",
    " (and use python to download a file!)\n",
    "     - Use np.loadtxt() to read this file in.\n",
    "     - Next, use np.histogram() to create a histogram array. The output returns both the count and an array of edges.\n",
    "     - Finally, loop over the bins and print out the bin center (averaging the left and right edges of the bin) and the count for that bin.\n",
    "'''\n",
    "\n",
    "import requests\n",
    "\n",
    "url = 'https://raw.githubusercontent.com/sbu-python-summer/python-tutorial/master/day-3/sample.txt'\n",
    "r = requests.get(url, allow_redirects=True)\n",
    "\n",
    "open('sample.txt', 'wb').write(r.content)\n",
    "\n",
    "data = np.loadtxt(\"sample.txt\")\n",
    "print(data.shape)"
   ]
  },
  {
   "cell_type": "code",
   "execution_count": 5,
   "id": "3c891b6d-65eb-46b5-929c-93422dfa74aa",
   "metadata": {},
   "outputs": [
    {
     "data": {
      "text/plain": [
       "array([  6.06970305, -52.2011722 ,   0.70141063, -47.80477715,\n",
       "       -22.94861378,  19.33283482,  84.58174822,  91.31342333,\n",
       "        42.07282212,  -1.86282183])"
      ]
     },
     "execution_count": 5,
     "metadata": {},
     "output_type": "execute_result"
    }
   ],
   "source": [
    "count,edges = np.histogram(data[:,0],weights=data[:,1])\n",
    "count"
   ]
  },
  {
   "cell_type": "code",
   "execution_count": 6,
   "id": "3d464b97-dc8f-433a-aa9b-162c3dc4a141",
   "metadata": {},
   "outputs": [
    {
     "data": {
      "text/plain": [
       "array([ 0. ,  9.9, 19.8, 29.7, 39.6, 49.5, 59.4, 69.3, 79.2, 89.1, 99. ])"
      ]
     },
     "execution_count": 6,
     "metadata": {},
     "output_type": "execute_result"
    }
   ],
   "source": [
    "edges"
   ]
  },
  {
   "cell_type": "code",
   "execution_count": 7,
   "id": "841df6e5-0b5a-407a-8d73-caa52b0a91db",
   "metadata": {},
   "outputs": [
    {
     "name": "stdout",
     "output_type": "stream",
     "text": [
      "bin center:  4.95 \tcount:  6.069703047865552\n",
      "bin center:  14.850000000000001 \tcount:  -52.201172195233326\n",
      "bin center:  24.75 \tcount:  0.7014106349144356\n",
      "bin center:  34.650000000000006 \tcount:  -47.804777150191036\n",
      "bin center:  44.55 \tcount:  -22.94861377762616\n",
      "bin center:  54.45 \tcount:  19.33283482185784\n",
      "bin center:  64.35 \tcount:  84.58174821855998\n",
      "bin center:  74.25 \tcount:  91.3134233340054\n",
      "bin center:  84.15 \tcount:  42.07282211700763\n",
      "bin center:  94.05000000000001 \tcount:  -1.8628218331290585\n"
     ]
    }
   ],
   "source": [
    "for i in range(len(count)):\n",
    "    mean = 0.5*(edges[i]+edges[i+1])\n",
    "    print(\"bin center: \", mean, \"\\tcount: \",count[i])"
   ]
  },
  {
   "cell_type": "code",
   "execution_count": 8,
   "id": "842ad8ba-622e-4044-ad14-dde9c4ec2628",
   "metadata": {},
   "outputs": [],
   "source": [
    "\n",
    "\n",
    "# --------\n",
    "# -- Q3 --\n",
    "# --------\n",
    "'''\n",
    "Write a function to calculate the standard deviation for an input array, a:\n",
    "    - First compute the average of the elements in a to define a-mean\n",
    "    - Next compute the sum over the squares of \n",
    "    - Then divide the sum by the number of elements in the array\n",
    "    - Finally take the square root (you can use np.sqrt())\n",
    "Test your function on a random array, and compare to the built-in np.std(). Check the runtime as well.\n",
    "'''\n",
    "\n",
    "def standard_dev(array):\n",
    "    diff = np.sum( ( array - np.mean(array) )**2 )\n",
    "    N = array.size\n",
    "    std_dev = np.sqrt(diff/N)\n",
    "    return std_dev\n",
    "    "
   ]
  },
  {
   "cell_type": "code",
   "execution_count": 9,
   "id": "411b3b78-aa58-452c-9969-e4623f373c29",
   "metadata": {},
   "outputs": [
    {
     "data": {
      "text/plain": [
       "array([ 1,  2,  3,  4,  5,  6,  7,  8,  9, 10, 11, 12, 13, 14, 15])"
      ]
     },
     "execution_count": 9,
     "metadata": {},
     "output_type": "execute_result"
    }
   ],
   "source": [
    "a = np.arange(1,16)\n",
    "a"
   ]
  },
  {
   "cell_type": "code",
   "execution_count": 10,
   "id": "cb8bf545-ab41-402b-9c69-b27ad5cbb523",
   "metadata": {},
   "outputs": [
    {
     "name": "stdout",
     "output_type": "stream",
     "text": [
      "time elapsed: 0.0003178119659423828 s\n"
     ]
    },
    {
     "data": {
      "text/plain": [
       "4.320493798938574"
      ]
     },
     "execution_count": 10,
     "metadata": {},
     "output_type": "execute_result"
    }
   ],
   "source": [
    "import time\n",
    "\n",
    "t0 = time.time()\n",
    "std = standard_dev(a)\n",
    "t1 = time.time()\n",
    "print(\"time elapsed: {} s\".format(t1-t0))\n",
    "std"
   ]
  },
  {
   "cell_type": "code",
   "execution_count": 11,
   "id": "201930d3-5a48-42f0-b5ad-430bda0d039d",
   "metadata": {},
   "outputs": [
    {
     "name": "stdout",
     "output_type": "stream",
     "text": [
      "time elapsed: 0.0005519390106201172 s\n"
     ]
    }
   ],
   "source": [
    "t2 = time.time()\n",
    "np.std(a)\n",
    "t3 = time.time()\n",
    "print(\"time elapsed: {} s\".format(t3-t2))"
   ]
  },
  {
   "cell_type": "code",
   "execution_count": 12,
   "id": "19c683cf-17a6-46b1-9e57-96cf588fc303",
   "metadata": {},
   "outputs": [
    {
     "name": "stdout",
     "output_type": "stream",
     "text": [
      "Standard deviation : my function time is 0.5758099352051835 numpy function time.\n"
     ]
    }
   ],
   "source": [
    "print(\"Standard deviation : my function time is {} numpy function time.\".format((t1-t0)/(t3-t2)))"
   ]
  },
  {
   "cell_type": "code",
   "execution_count": 13,
   "id": "5cd331aa-d52a-4a1e-a21c-4f01a11fe320",
   "metadata": {},
   "outputs": [
    {
     "data": {
      "text/plain": [
       "\"\\nBoostrapping is a prominent statistical tecnique to estimate errors when you're stuck and don't know what else to do: \\nhttps://erikjanvankesteren.nl/blog/2018-03-01-baron-bootstrap.html\\n\\n    - Generate a 1D array (say from a Gaussian, but then add some outliers for fun). \\n    - Compute the bootstrapped 95% confidence intervals for the mean of that array \\n        (i.e., \\n            . resample the elements of an array with replacement N times, \\n            . compute the mean of each sample\\n            . compute percentiles over the means).\\n\""
      ]
     },
     "execution_count": 13,
     "metadata": {},
     "output_type": "execute_result"
    }
   ],
   "source": [
    "\n",
    "\n",
    "# --------\n",
    "# -- Q4 --\n",
    "# --------\n",
    "\n",
    "'''\n",
    "Boostrapping is a prominent statistical tecnique to estimate errors when you're stuck and don't know what else to do: \n",
    "https://erikjanvankesteren.nl/blog/2018-03-01-baron-bootstrap.html\n",
    "\n",
    "    - Generate a 1D array (say from a Gaussian, but then add some outliers for fun). \n",
    "    - Compute the bootstrapped 95% confidence intervals for the mean of that array \n",
    "        (i.e., \n",
    "            . resample the elements of an array with replacement N times, \n",
    "            . compute the mean of each sample\n",
    "            . compute percentiles over the means).\n",
    "'''\n",
    "\n",
    "\n"
   ]
  },
  {
   "cell_type": "code",
   "execution_count": 15,
   "id": "084aba82-2538-4f1d-934f-cb0afbc6c85d",
   "metadata": {},
   "outputs": [],
   "source": [
    "import numpy as np\n",
    "data = np.random.normal(loc=0, scale=1, size=100)  # Gaussian distribution\n",
    "outliers = np.random.normal(loc=10, scale=5, size=10)  # Outliers\n",
    "data_with_outliers = np.concatenate((data, outliers))\n",
    "\n",
    "# Bootstrapping\n",
    "N = 1000  # Number of bootstrap samples\n",
    "bs_means = []\n",
    "for _ in range(N):\n",
    "    bs_sample = np.random.choice(data_with_outliers, size=len(data_with_outliers), replace=True)\n",
    "    bs_means.append(np.mean(bs_sample))\n",
    "\n",
    "# Compute confidence intervals\n",
    "CL = np.percentile(bs_means, [2.5, 97.5])"
   ]
  },
  {
   "cell_type": "code",
   "execution_count": 16,
   "id": "f21d58ea-1b3d-4e3b-bb5a-0e2df6f14e10",
   "metadata": {},
   "outputs": [
    {
     "name": "stdout",
     "output_type": "stream",
     "text": [
      "[0.20602939 1.20401305]\n"
     ]
    }
   ],
   "source": [
    "print(CL)"
   ]
  },
  {
   "cell_type": "code",
   "execution_count": null,
   "id": "d681d99a-3366-4822-8904-e3210eac7b73",
   "metadata": {},
   "outputs": [],
   "source": []
  }
 ],
 "metadata": {
  "kernelspec": {
   "display_name": "Python 3 (ipykernel)",
   "language": "python",
   "name": "python3"
  },
  "language_info": {
   "codemirror_mode": {
    "name": "ipython",
    "version": 3
   },
   "file_extension": ".py",
   "mimetype": "text/x-python",
   "name": "python",
   "nbconvert_exporter": "python",
   "pygments_lexer": "ipython3",
   "version": "3.12.0"
  }
 },
 "nbformat": 4,
 "nbformat_minor": 5
}
