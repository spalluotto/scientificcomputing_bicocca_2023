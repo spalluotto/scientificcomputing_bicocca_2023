{
 "cells": [
  {
   "cell_type": "code",
   "execution_count": 1,
   "id": "0621df4e-004f-4e40-a17d-8d95d193cfdb",
   "metadata": {},
   "outputs": [],
   "source": [
    "import numpy as np\n",
    "import matplotlib.pyplot as plt"
   ]
  },
  {
   "cell_type": "code",
   "execution_count": null,
   "id": "840405ec-518e-4954-8f71-bf4ce5a3ef31",
   "metadata": {},
   "outputs": [],
   "source": [
    "# --------\n",
    "# -- Q2 --\n",
    "# --------\n",
    "\n",
    "'''\n",
    "    - Plot as points, the periods vs. distances for each planet on a log-log plot.\n",
    "    - Write the name of the planet next to the point for that planet on the plot\n",
    "'''"
   ]
  },
  {
   "cell_type": "code",
   "execution_count": null,
   "id": "35a9e29e-b855-48e4-9a4b-24256f03e9ff",
   "metadata": {},
   "outputs": [],
   "source": [
    "# distances of the planets from the Sun \n",
    "a = np.array([0.39, 0.72, 1.00, 1.52, 5.20, 9.54, 19.22, 30.06, 39.48])\n",
    "\n",
    "#  corresponding periods of their orbits\n",
    "P = np.array([0.24, 0.62, 1.00, 1.88, 11.86, 29.46, 84.01, 164.8, 248.09])\n",
    "\n",
    "# names of the planets\n",
    "names = [\"Mercury\", \"Venus\", \"Earth\", \"Mars\", \"Jupiter\", \"Saturn\", \"Uranus\", \"Neptune\", \"Pluto\"]"
   ]
  },
  {
   "cell_type": "code",
   "execution_count": null,
   "id": "dbf63c4a-8955-433f-8552-cf7c326ae2b4",
   "metadata": {},
   "outputs": [],
   "source": [
    "fig = plt.figure()\n",
    "import math\n",
    "ax = fig.add_subplot(111)\n",
    "ax.plot(a,P,marker=\".\")\n",
    "ax.set_yscale(\"log\")\n",
    "ax.set_xscale(\"log\")\n",
    "ax.set_xlabel(\"distance from the sun [Earth-Sun distance]\")\n",
    "ax.set_ylabel(\"period [year]\")\n",
    "for it,name in enumerate(names):\n",
    "    ax.text(a[it]+math.log(1.2), P[it], name)"
   ]
  },
  {
   "cell_type": "code",
   "execution_count": null,
   "id": "31f6244c-9471-4d7a-abb5-ea3561e3ee72",
   "metadata": {},
   "outputs": [],
   "source": [
    "\n",
    "\n",
    "\n",
    "\n",
    "# --------\n",
    "# -- Q3 --\n",
    "# --------\n",
    "\n",
    "'''\n",
    "- We want to draw a circle.\n",
    "    . Create an array to hold the theta values—the more we use, the smoother the circle will be\n",
    "    . Create x and y arrays from theta for your choice of \n",
    "    . Plot y vs. x\n",
    "    . look up the matplotlib fill() function, and draw a circle filled in with a solid color.\n",
    "\n",
    "- Generalize your circle drawing commands to produce a function,\n",
    "    . draw_circle(x0, y0, R, color) that draws the circle. \n",
    "         (x0, y0) is the center of the circle, R is the radius, and color is the color of the circle.\n",
    "\n",
    "Now randomly draw 10 circles at different locations, with random radii, and random colors on the same plot.\n",
    "'''\n",
    "\n",
    "theta = np.random.uniform(0,2*np.pi,1000)\n",
    "x = np.cos(theta)\n",
    "y = np.sin(theta)\n",
    "x,y"
   ]
  },
  {
   "cell_type": "code",
   "execution_count": null,
   "id": "9d51e07e-4136-4c87-b2fc-b7eeb142c171",
   "metadata": {},
   "outputs": [],
   "source": [
    "plt.plot(x, y)\n",
    "plt.fill(x, y, color='m')\n",
    "plt.ylabel(r\"$\\sin(x)$\")\n",
    "plt.xlabel(r\"$\\cos(x)$\")"
   ]
  },
  {
   "cell_type": "code",
   "execution_count": null,
   "id": "f77551ea-83e4-4a30-9d69-2e09e73a0ac2",
   "metadata": {},
   "outputs": [],
   "source": [
    "def draw_circle(x0,y0,R,color):\n",
    "    theta = np.random.uniform(0,2*np.pi,100)\n",
    "    x = np.cos(theta)*R + x0\n",
    "    y = np.sin(theta)*R + y0\n",
    "    plt.scatter(x, y, color=color)\n",
    "    plt.fill(x, y, color=color, alpha=0.5)\n",
    "    plt.ylabel(r\"$\\sin(x)$\")\n",
    "    plt.xlabel(r\"$\\cos(x)$\")"
   ]
  },
  {
   "cell_type": "code",
   "execution_count": null,
   "id": "14e3fd9a-39fc-406e-a825-2216d14411af",
   "metadata": {},
   "outputs": [],
   "source": [
    "for i in range(5):\n",
    "    x_0 = np.random.uniform(0,100,1)\n",
    "    y_0 = np.random.uniform(0,100,1)\n",
    "    radius = np.random.uniform(0,100,1)\n",
    "    col = (np.random.random(), np.random.random(), np.random.random())\n",
    "    draw_circle(x_0, y_0, radius, col)\n",
    "    "
   ]
  },
  {
   "cell_type": "code",
   "execution_count": null,
   "id": "e919d673-56b7-461f-a109-0892dbbb54b6",
   "metadata": {},
   "outputs": [],
   "source": [
    "\n",
    "# --------\n",
    "# -- Q4 --\n",
    "# --------\n",
    "'''\n",
    "Download the data file of global surface air temperature averages from here: \n",
    "https://raw.githubusercontent.com/sbu-python-summer/python-tutorial/master/day-4/nasa-giss.txt \n",
    "This data comes from: https://data.giss.nasa.gov/gistemp/graphs/\n",
    "There are 3 columns here: the year, the temperature change, and a smoothed representation of the temperature change.\n",
    " - Read in this data using np.loadtxt().\n",
    " - Plot as a line the smoothed representation of the temperature changes.\n",
    " - Plot as points the temperature change (no smoothing). Color the points blue if they are < 0 and color them red if they are >= 0\n",
    "You might find the numpy where() function useful.\n",
    "    numpy.where(condition, [x, y, ]/)\n",
    "        Return elements chosen from x or y depending on condition.\n",
    "\n",
    "'''\n",
    "\n",
    "import requests\n",
    "url = 'https://raw.githubusercontent.com/sbu-python-summer/python-tutorial/master/day-4/nasa-giss.txt'\n",
    "r = requests.get(url, allow_redirects=True)\n",
    "open('data.txt', 'wb').write(r.content)\n",
    "data = np.loadtxt(\"data.txt\")\n",
    "print(data.shape)"
   ]
  },
  {
   "cell_type": "code",
   "execution_count": null,
   "id": "68c799b9-abd9-400d-9855-df6c925af5c6",
   "metadata": {},
   "outputs": [],
   "source": [
    "plt.plot(data[:,0], data[:,2])\n",
    "plt.xlabel(\"year\")\n",
    "plt.ylabel(\"smoothed representation of the temperature change\")"
   ]
  },
  {
   "cell_type": "code",
   "execution_count": null,
   "id": "4f03dcab-59e5-4235-a93e-ef92f1bd5b9a",
   "metadata": {},
   "outputs": [],
   "source": [
    "plt.scatter(data[:,0], data[:,1], color=np.where(data[:,1] >= 0, 'red', 'blue'))\n",
    "plt.xlabel(\"year\")\n",
    "plt.ylabel(\"smoothed representation of the temperature change\")"
   ]
  },
  {
   "cell_type": "code",
   "execution_count": null,
   "id": "664222b2-e99a-4b55-aa3b-2b40b286ee06",
   "metadata": {},
   "outputs": [],
   "source": [
    "\n",
    "\n",
    "# --------\n",
    "# -- Q5 --\n",
    "# --------\n",
    "\n",
    "'''\n",
    "matplotlib has a number of ways to create multiple axes in a figure -- look at plt.subplots() \n",
    "(http://matplotlib.org/api/pyplot_api.html#matplotlib.pyplot.subplot)\n",
    "\n",
    "    - Create an x array using NumPy with a number of points, spanning from [0,2pi]\n",
    "    - Create 3 axes vertically, and do the following:\n",
    "        . Define a new numpy array f initialized to a function of your choice.\n",
    "        . Plot f in the top axes\n",
    "        . Compute a numerical derivative of f, f', and plot this in the middle axes\n",
    "        . Do this again, this time on f' to compute the second derivative and plot that in the bottom axes\n",
    "'''\n",
    "\n",
    "x = np.sort(np.random.uniform(0,2*np.pi,10))\n",
    "\n",
    "def func(x):\n",
    "    return x**2 + 5*x + 14\n",
    "    \n",
    "def funcPrime(x):\n",
    "    h = 0.000001\n",
    "    min = func(x-h)\n",
    "    max = func(x+h)\n",
    "    return (max-min) / (2*h)\n",
    "\n",
    "def funcSecond(x):\n",
    "    h = 0.000001\n",
    "    min = funcPrime(x-h)\n",
    "    max = funcPrime(x+h)\n",
    "    return (max-min) / (2*h)"
   ]
  },
  {
   "cell_type": "code",
   "execution_count": null,
   "id": "f35a98cf-8bf4-47bd-88fc-a3aa6a7c65be",
   "metadata": {},
   "outputs": [],
   "source": [
    "func(x)\n",
    "funcPrime(x)"
   ]
  },
  {
   "cell_type": "code",
   "execution_count": null,
   "id": "bf671b73-8f3a-4bd2-b30c-a1a43b0bee65",
   "metadata": {},
   "outputs": [],
   "source": [
    "    \n",
    "fig, (ax1, ax2, ax3) = plt.subplots(3)\n",
    "ax1.plot(x, func(x), color='r')\n",
    "ax1.set_ylabel(\" f \")\n",
    "ax2.plot(x, funcPrime(x), color='g')\n",
    "ax2.set_ylabel(\" f ' \")\n",
    "ax3.plot(x, funcSecond(x), color='b')\n",
    "ax3.set_ylabel(\" f '' \")\n",
    "ax3.set_xlabel(\"x\")"
   ]
  },
  {
   "cell_type": "code",
   "execution_count": 2,
   "id": "f77cc3a2-b266-497d-b927-f7140a8e0725",
   "metadata": {},
   "outputs": [],
   "source": [
    "\n",
    "# --------\n",
    "# -- Q6 --\n",
    "# --------\n",
    "\n",
    "'''\n",
    "In this exercise, we will read the file with the transcription of Star Trek TOS, \n",
    "Shore Leave and calculate the amount of time each word was found. We will then plot the 25 most frequent words and label the plot.\n",
    "\n",
    "Read the file and create the dictionaty {'word':count}\n",
    "\n",
    "    - Open the shore_leave.txt\n",
    "    - Create the dictionary of the form {'word':count}, where count shows the amount of times the word was found in the text. \n",
    "      Remember to get rid of the punctuation (\".\" and \",\") and to ensure that all words are lowercase\n",
    "          f = open(\"shore_leave.txt\", \"r\")\n",
    "    - Plot a labelled bar chart of the most frequent 25 words with their frequencies.\n",
    "'''\n",
    "\n",
    "import re\n",
    "\n",
    "f = open(\"shore_leave.txt\", \"r\")"
   ]
  },
  {
   "cell_type": "code",
   "execution_count": 3,
   "id": "31d9616f-2403-49aa-9005-6a2a53507791",
   "metadata": {},
   "outputs": [],
   "source": [
    "word_count = {}\n",
    "with open(\"shore_leave.txt\", \"r\") as f:\n",
    "    for line in f:\n",
    "        words = re.findall(r'\\b\\w+\\b', line.lower())\n",
    "        for word in words:\n",
    "            word_count[word] = word_count.get(word, 0) + 1"
   ]
  },
  {
   "cell_type": "code",
   "execution_count": 4,
   "id": "1f0af0a5-f59d-478b-9214-7a414e850e5b",
   "metadata": {},
   "outputs": [
    {
     "data": {
      "image/png": "[encoded data removed]",
      "text/plain": [
       "<Figure size 1000x600 with 1 Axes>"
      ]
     },
     "metadata": {},
     "output_type": "display_data"
    }
   ],
   "source": [
    "# sorting\n",
    "sorted_words = dict(sorted(word_count.items(), key=lambda item: item[1], reverse=True))\n",
    "\n",
    "# most frequent 25 words\n",
    "freq_words = list(sorted_words.keys())[:25]\n",
    "word_fr = [sorted_words[word] for word in freq_words]\n",
    "\n",
    "plt.figure(figsize=(10, 6))\n",
    "plt.barh(freq_words, word_fr, color='blue')\n",
    "plt.xlabel('freq')\n",
    "plt.ylabel('word')\n",
    "plt.gca().invert_yaxis() # aesthetics\n",
    "plt.show()"
   ]
  },
  {
   "cell_type": "code",
   "execution_count": null,
   "id": "a1b48ca9-bcbd-49d4-9178-8b5bea5111b6",
   "metadata": {},
   "outputs": [],
   "source": []
  },
  {
   "cell_type": "code",
   "execution_count": null,
   "id": "a30fff1a-656f-4e0b-8fd0-94cbb29f196d",
   "metadata": {},
   "outputs": [],
   "source": []
  }
 ],
 "metadata": {
  "kernelspec": {
   "display_name": "Python 3 (ipykernel)",
   "language": "python",
   "name": "python3"
  },
  "language_info": {
   "codemirror_mode": {
    "name": "ipython",
    "version": 3
   },
   "file_extension": ".py",
   "mimetype": "text/x-python",
   "name": "python",
   "nbconvert_exporter": "python",
   "pygments_lexer": "ipython3",
   "version": "3.12.0"
  }
 },
 "nbformat": 4,
 "nbformat_minor": 5
}
