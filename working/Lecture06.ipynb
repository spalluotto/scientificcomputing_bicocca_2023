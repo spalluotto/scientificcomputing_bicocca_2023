{
 "cells": [
  {
   "cell_type": "code",
   "execution_count": null,
   "id": "2953b7b7-d3c2-49b1-b09f-cc26a61f479d",
   "metadata": {},
   "outputs": [],
   "source": [
    "# --------\n",
    "# -- Q2 --\n",
    "# --------\n",
    "\n",
    "\"\"\"\n",
    "Write a github action that lets you commit only if README.md contains your name.\n",
    "\"\"\"\n",
    "\n",
    "# github action here:    .github/workflows/L06_Q2.yml\n",
    "\n",
    "# --------\n",
    "# -- Q4 --\n",
    "# --------\n",
    "\n",
    "\"\"\"\n",
    "Find a bug/typo in the material of this course, fix it, and send me a pull request.\n",
    "\"\"\"\n",
    "\n",
    "# Found bug in L409 and L434 in L06_git"
   ]
  }
 ],
 "metadata": {
  "kernelspec": {
   "display_name": "Python 3 (ipykernel)",
   "language": "python",
   "name": "python3"
  },
  "language_info": {
   "codemirror_mode": {
    "name": "ipython",
    "version": 3
   },
   "file_extension": ".py",
   "mimetype": "text/x-python",
   "name": "python",
   "nbconvert_exporter": "python",
   "pygments_lexer": "ipython3",
   "version": "3.12.0"
  }
 },
 "nbformat": 4,
 "nbformat_minor": 5
}
