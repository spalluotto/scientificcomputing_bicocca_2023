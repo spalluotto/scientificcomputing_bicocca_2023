{
 "cells": [
  {
   "cell_type": "code",
   "execution_count": 1,
   "id": "3260dc05-4f96-498f-93fb-c0a0d5f7b2d5",
   "metadata": {},
   "outputs": [
    {
     "name": "stdout",
     "output_type": "stream",
     "text": [
      "None\n"
     ]
    }
   ],
   "source": [
    "# --------\n",
    "# -- Q1 --\n",
    "# --------\n",
    "\n",
    "\"\"\"\n",
    "- Take a piece of python code you wrote (for instance pick one of the exercises you've done for this class).\n",
    "- Turn it into a module\n",
    "- Install it locally\n",
    "- Deploy on pypi (only using the test-pypi server!)\n",
    "\"\"\"\n",
    "\n",
    "# taking Lecture 3 Q6 as example\n",
    "#test.py\n"
   ]
  },
  {
   "cell_type": "code",
   "execution_count": null,
   "id": "90e0b8ec-2e8d-4f7f-a844-5b470815c792",
   "metadata": {},
   "outputs": [],
   "source": []
  }
 ],
 "metadata": {
  "kernelspec": {
   "display_name": "Python 3 (ipykernel)",
   "language": "python",
   "name": "python3"
  },
  "language_info": {
   "codemirror_mode": {
    "name": "ipython",
    "version": 3
   },
   "file_extension": ".py",
   "mimetype": "text/x-python",
   "name": "python",
   "nbconvert_exporter": "python",
   "pygments_lexer": "ipython3",
   "version": "3.12.0"
  }
 },
 "nbformat": 4,
 "nbformat_minor": 5
}
