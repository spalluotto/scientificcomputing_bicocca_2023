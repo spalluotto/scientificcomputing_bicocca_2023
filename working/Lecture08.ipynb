{
 "cells": [
  {
   "cell_type": "code",
   "execution_count": 1,
   "id": "3260dc05-4f96-498f-93fb-c0a0d5f7b2d5",
   "metadata": {},
   "outputs": [
    {
     "name": "stdout",
     "output_type": "stream",
     "text": [
      "None\n"
     ]
    }
   ],
   "source": [
    "# --------\n",
    "# -- Q1 --\n",
    "# --------\n",
    "\"\"\"\n",
    "- Take a piece of python code you wrote (for instance pick one of the exercises you've done for this class).\n",
    "- Turn it into a module\n",
    "- Install it locally\n",
    "- Deploy on pypi (only using the test-pypi server!)\n",
    "\"\"\"\n",
    "\n",
    "# taking Lecture 3 Q6 as example\n",
    "# plotFreq folder\n",
    "#    L08_Q1.py as tester\n",
    "#    https://test.pypi.org/project/plotFreq/0.0.2/#files\n",
    "\n",
    "\n",
    "# --------\n",
    "# -- Q2 --\n",
    "# --------\n",
    "\"\"\"\n",
    "- Pick a piece of python code that you like (your own PhD project, or take one of the exercises from this class). \n",
    "- Implement a unit test and a regression test.\n",
    "- Put it under git version control, and write a github action that runs the tests at every commit.\n",
    "- Edit the github options to make sure the code cannot be committed if the tests fail \n",
    "        (that's a common thing for big projects with many collaborations, nobody is allowed to break the code)\n",
    "\"\"\"\n",
    "\n",
    "\n",
    "# taking Lecture 3 Q6 as example again\n",
    "# L08 folder \n",
    "#   function defined here:          plot_frequency_func.py       \n",
    "#   test and regression here:       test_plot_frequency_func.py\n",
    "#   github action here :            .github/workflows/L08_Q2.yml"
   ]
  },
  {
   "cell_type": "code",
   "execution_count": null,
   "id": "90e0b8ec-2e8d-4f7f-a844-5b470815c792",
   "metadata": {},
   "outputs": [],
   "source": []
  }
 ],
 "metadata": {
  "kernelspec": {
   "display_name": "Python 3 (ipykernel)",
   "language": "python",
   "name": "python3"
  },
  "language_info": {
   "codemirror_mode": {
    "name": "ipython",
    "version": 3
   },
   "file_extension": ".py",
   "mimetype": "text/x-python",
   "name": "python",
   "nbconvert_exporter": "python",
   "pygments_lexer": "ipython3",
   "version": "3.12.0"
  }
 },
 "nbformat": 4,
 "nbformat_minor": 5
}
