{
 "cells": [
  {
   "cell_type": "markdown",
   "id": "056aa344",
   "metadata": {},
   "source": [
    "### Stay tuned...\n",
    "\n",
    "[pandas](https://pandas.pydata.org/) is another data-analysis library in Python. I personally prefer my good old numpy, but pandas is indeed very popular. \n",
    "\n",
    "I hope to prepare some notes about pandas at some point... For now, [this](https://pandas.pydata.org/docs/user_guide/10min.html) is a nice tutorial."
   ]
  },
  {
   "cell_type": "code",
   "execution_count": null,
   "id": "82163a7d",
   "metadata": {},
   "outputs": [],
   "source": []
  }
 ],
 "metadata": {
  "kernelspec": {
   "display_name": "Python 3 (ipykernel)",
   "language": "python",
   "name": "python3"
  },
  "language_info": {
   "codemirror_mode": {
    "name": "ipython",
    "version": 3
   },
   "file_extension": ".py",
   "mimetype": "text/x-python",
   "name": "python",
   "nbconvert_exporter": "python",
   "pygments_lexer": "ipython3",
   "version": "3.11.4"
  }
 },
 "nbformat": 4,
 "nbformat_minor": 5
}
